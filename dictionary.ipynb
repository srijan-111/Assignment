{
 "cells": [
  {
   "cell_type": "code",
   "execution_count": 1,
   "id": "d5885f09-c79a-4c38-838b-d0f8b7000d86",
   "metadata": {},
   "outputs": [],
   "source": [
    "d1 = {'name':'sri','age':'20y','w8':'76kg', 'sri':'True'}"
   ]
  },
  {
   "cell_type": "code",
   "execution_count": 2,
   "id": "17b2df3c-35b7-4ce1-b518-17d883a20242",
   "metadata": {},
   "outputs": [
    {
     "data": {
      "text/plain": [
       "{'name': 'sri', 'age': '20y', 'w8': '76kg', 'sri': 'True'}"
      ]
     },
     "execution_count": 2,
     "metadata": {},
     "output_type": "execute_result"
    }
   ],
   "source": [
    "d1"
   ]
  },
  {
   "cell_type": "code",
   "execution_count": 4,
   "id": "8923fd5a-63ec-4d0c-ad2b-f3465fa41082",
   "metadata": {},
   "outputs": [
    {
     "data": {
      "text/plain": [
       "'sri'"
      ]
     },
     "execution_count": 4,
     "metadata": {},
     "output_type": "execute_result"
    }
   ],
   "source": [
    "d1['name']"
   ]
  },
  {
   "cell_type": "code",
   "execution_count": 5,
   "id": "6a393e8c-f8b9-4ba1-a973-390ed803bdca",
   "metadata": {},
   "outputs": [
    {
     "data": {
      "text/plain": [
       "'True'"
      ]
     },
     "execution_count": 5,
     "metadata": {},
     "output_type": "execute_result"
    }
   ],
   "source": [
    "d1['sri']"
   ]
  },
  {
   "cell_type": "code",
   "execution_count": 3,
   "id": "2da4d445-9be3-4156-a49b-48331462ad9d",
   "metadata": {},
   "outputs": [],
   "source": [
    "d2 = {'number':[1,2,6,8,9,4,55,] , 'Assignment':(1,2,6,8,3,9) , 'class_time' :{'wakeup':7,'gym':9}}"
   ]
  },
  {
   "cell_type": "code",
   "execution_count": 4,
   "id": "f2f839e0-82de-4339-886a-971c4e9ba42c",
   "metadata": {},
   "outputs": [
    {
     "data": {
      "text/plain": [
       "{'number': [1, 2, 6, 8, 9, 4, 55],\n",
       " 'Assignment': (1, 2, 6, 8, 3, 9),\n",
       " 'class_time': {'wakeup': 7, 'gym': 9}}"
      ]
     },
     "execution_count": 4,
     "metadata": {},
     "output_type": "execute_result"
    }
   ],
   "source": [
    "d2"
   ]
  },
  {
   "cell_type": "code",
   "execution_count": 5,
   "id": "55233c5b-0458-4d15-92fb-23df6d7df1a8",
   "metadata": {},
   "outputs": [
    {
     "data": {
      "text/plain": [
       "[('number', [1, 2, 6, 8, 9, 4, 55]),\n",
       " ('Assignment', (1, 2, 6, 8, 3, 9)),\n",
       " ('class_time', {'wakeup': 7, 'gym': 9})]"
      ]
     },
     "execution_count": 5,
     "metadata": {},
     "output_type": "execute_result"
    }
   ],
   "source": [
    "list(d2.items())"
   ]
  },
  {
   "cell_type": "code",
   "execution_count": 7,
   "id": "07dc8cd0-3a8f-47ca-9a10-4f410fb689d1",
   "metadata": {},
   "outputs": [
    {
     "data": {
      "text/plain": [
       "[1, 2, 6, 8, 9, 4, 55]"
      ]
     },
     "execution_count": 7,
     "metadata": {},
     "output_type": "execute_result"
    }
   ],
   "source": [
    "d2.pop('number')"
   ]
  },
  {
   "cell_type": "code",
   "execution_count": 8,
   "id": "86b409dd-d97f-4027-b867-5502edf605c6",
   "metadata": {},
   "outputs": [
    {
     "data": {
      "text/plain": [
       "{'Assignment': (1, 2, 6, 8, 3, 9), 'class_time': {'wakeup': 7, 'gym': 9}}"
      ]
     },
     "execution_count": 8,
     "metadata": {},
     "output_type": "execute_result"
    }
   ],
   "source": [
    "d2"
   ]
  },
  {
   "cell_type": "code",
   "execution_count": 2,
   "id": "8d2ad8ed-67f9-453c-8a2c-66dac8010f1e",
   "metadata": {},
   "outputs": [
    {
     "name": "stdin",
     "output_type": "stream",
     "text": [
      "Enter your marks 0\n"
     ]
    },
    {
     "name": "stdout",
     "output_type": "stream",
     "text": [
      "property se bedakhal hogaya tu to\n"
     ]
    }
   ],
   "source": [
    "marks = int(input(\"Enter your marks\"))\n",
    "if marks >= 90 :\n",
    "    print(\"thik hai\")\n",
    "elif marks >= 60 :\n",
    "    print(\"gaali padegi bhai maa se\")\n",
    "else :\n",
    "    print(\"property se bedakhal hogaya tu to\")"
   ]
  },
  {
   "cell_type": "code",
   "execution_count": 3,
   "id": "5754573f-bc1b-405c-b8fb-334f252a1c90",
   "metadata": {},
   "outputs": [],
   "source": [
    "l = [1,2,3,4,5,6,7,8]"
   ]
  },
  {
   "cell_type": "code",
   "execution_count": 9,
   "id": "0da6d77e-856c-4874-b8db-80bca0fc65b9",
   "metadata": {},
   "outputs": [
    {
     "name": "stdout",
     "output_type": "stream",
     "text": [
      "2\n",
      "3\n",
      "4\n",
      "5\n",
      "6\n",
      "7\n",
      "8\n",
      "9\n"
     ]
    }
   ],
   "source": [
    "\n",
    "for i in l :\n",
    "    print(i+1)"
   ]
  },
  {
   "cell_type": "code",
   "execution_count": 11,
   "id": "56f9c4ff-01ee-44e4-9806-a18e5d861a7d",
   "metadata": {},
   "outputs": [
    {
     "data": {
      "text/plain": [
       "[1, 2, 3, 4, 5, 6, 7, 8]"
      ]
     },
     "execution_count": 11,
     "metadata": {},
     "output_type": "execute_result"
    }
   ],
   "source": [
    "l"
   ]
  },
  {
   "cell_type": "code",
   "execution_count": 15,
   "id": "8e431ef0-3987-462c-b38d-acbd85612388",
   "metadata": {},
   "outputs": [
    {
     "data": {
      "text/plain": [
       "[]"
      ]
     },
     "execution_count": 15,
     "metadata": {},
     "output_type": "execute_result"
    }
   ],
   "source": [
    "l1"
   ]
  },
  {
   "cell_type": "code",
   "execution_count": 12,
   "id": "64c0c3d4-7c72-4911-93f7-691309c67ff6",
   "metadata": {},
   "outputs": [
    {
     "data": {
      "text/plain": [
       "8"
      ]
     },
     "execution_count": 12,
     "metadata": {},
     "output_type": "execute_result"
    }
   ],
   "source": [
    "i"
   ]
  },
  {
   "cell_type": "code",
   "execution_count": 16,
   "id": "f0bb55e4-6c61-4990-9189-a7b632acb5f4",
   "metadata": {},
   "outputs": [],
   "source": [
    "c = [\"srijan\",\"gauraha\",\"kriti\",\"rameah\"]"
   ]
  },
  {
   "cell_type": "code",
   "execution_count": 17,
   "id": "98d25507-cf9b-4a17-8b86-05cc0d68d8e0",
   "metadata": {},
   "outputs": [
    {
     "name": "stdout",
     "output_type": "stream",
     "text": [
      "srijan\n",
      "gauraha\n",
      "kriti\n",
      "rameah\n"
     ]
    }
   ],
   "source": [
    "c1 = []\n",
    "for i in c :\n",
    "    print(i)\n",
    "    c1.append(i.upper())"
   ]
  },
  {
   "cell_type": "code",
   "execution_count": 18,
   "id": "6830d723-4e91-4658-8875-d9ce340d9b76",
   "metadata": {},
   "outputs": [
    {
     "data": {
      "text/plain": [
       "['SRIJAN', 'GAURAHA', 'KRITI', 'RAMEAH']"
      ]
     },
     "execution_count": 18,
     "metadata": {},
     "output_type": "execute_result"
    }
   ],
   "source": [
    "c1"
   ]
  },
  {
   "cell_type": "code",
   "execution_count": 1,
   "id": "8e3ec9a4-213e-4c98-95cc-2e8acacc4931",
   "metadata": {},
   "outputs": [],
   "source": [
    "l = [1,2,3,4,5,\"srijan\",\"abcdefghijklmnopqrstuvvwxyz\"]"
   ]
  },
  {
   "cell_type": "code",
   "execution_count": 3,
   "id": "a7100192-8256-4301-a11f-fd1371d414af",
   "metadata": {},
   "outputs": [],
   "source": [
    "l1_num= []\n",
    "l2_str = []\n",
    "for i in l :\n",
    "    if type(i) ==int :\n",
    "        l1_num.append(i)\n",
    "    else :\n",
    "        l2_str.append(i)"
   ]
  },
  {
   "cell_type": "code",
   "execution_count": 4,
   "id": "efb519aa-c330-476b-bdca-91c70db3297c",
   "metadata": {},
   "outputs": [
    {
     "data": {
      "text/plain": [
       "[1, 2, 3, 4, 5]"
      ]
     },
     "execution_count": 4,
     "metadata": {},
     "output_type": "execute_result"
    }
   ],
   "source": [
    "l1_num"
   ]
  },
  {
   "cell_type": "code",
   "execution_count": 5,
   "id": "b012a1d4-dca9-4d6e-b2ff-05d3ae382500",
   "metadata": {},
   "outputs": [
    {
     "data": {
      "text/plain": [
       "['srijan', 'abcdefghijklmnopqrstuvvwxyz']"
      ]
     },
     "execution_count": 5,
     "metadata": {},
     "output_type": "execute_result"
    }
   ],
   "source": [
    "l2_str"
   ]
  },
  {
   "cell_type": "code",
   "execution_count": null,
   "id": "6dcd6423-f6cb-45cd-b0de-27f5271be92b",
   "metadata": {},
   "outputs": [],
   "source": []
  }
 ],
 "metadata": {
  "kernelspec": {
   "display_name": "Python 3 (ipykernel)",
   "language": "python",
   "name": "python3"
  },
  "language_info": {
   "codemirror_mode": {
    "name": "ipython",
    "version": 3
   },
   "file_extension": ".py",
   "mimetype": "text/x-python",
   "name": "python",
   "nbconvert_exporter": "python",
   "pygments_lexer": "ipython3",
   "version": "3.10.8"
  }
 },
 "nbformat": 4,
 "nbformat_minor": 5
}
